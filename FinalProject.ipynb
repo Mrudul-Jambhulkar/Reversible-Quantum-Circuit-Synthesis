{
  "nbformat": 4,
  "nbformat_minor": 0,
  "metadata": {
    "colab": {
      "provenance": []
    },
    "kernelspec": {
      "name": "python3",
      "display_name": "Python 3"
    },
    "language_info": {
      "name": "python"
    }
  },
  "cells": [
    {
      "cell_type": "markdown",
      "source": [
        "GROUP MEMBERS:\n",
        "\n",
        "Anannay Jain [210110021]\n",
        "\n",
        "Ashish Prasad [21D180009]\n",
        "\n",
        "Mrudul Jambhulkar [21D070044]\n",
        "\n",
        "Saurav Raj [21D070064]"
      ],
      "metadata": {
        "id": "ZZ8PWVetBFmG"
      }
    },
    {
      "cell_type": "code",
      "source": [
        "!pip install qiskit"
      ],
      "metadata": {
        "colab": {
          "base_uri": "https://localhost:8080/"
        },
        "id": "LqwvbF4FAE8h",
        "outputId": "e8a2acdb-8cde-4a70-fdd0-30c9310d8dfa"
      },
      "execution_count": 1,
      "outputs": [
        {
          "output_type": "stream",
          "name": "stdout",
          "text": [
            "Collecting qiskit\n",
            "  Downloading qiskit-1.3.0-cp39-abi3-manylinux_2_17_x86_64.manylinux2014_x86_64.whl.metadata (12 kB)\n",
            "Collecting rustworkx>=0.15.0 (from qiskit)\n",
            "  Downloading rustworkx-0.15.1-cp38-abi3-manylinux_2_17_x86_64.manylinux2014_x86_64.whl.metadata (9.9 kB)\n",
            "Requirement already satisfied: numpy<3,>=1.17 in /usr/local/lib/python3.10/dist-packages (from qiskit) (1.26.4)\n",
            "Requirement already satisfied: scipy>=1.5 in /usr/local/lib/python3.10/dist-packages (from qiskit) (1.13.1)\n",
            "Requirement already satisfied: sympy>=1.3 in /usr/local/lib/python3.10/dist-packages (from qiskit) (1.13.1)\n",
            "Collecting dill>=0.3 (from qiskit)\n",
            "  Downloading dill-0.3.9-py3-none-any.whl.metadata (10 kB)\n",
            "Requirement already satisfied: python-dateutil>=2.8.0 in /usr/local/lib/python3.10/dist-packages (from qiskit) (2.8.2)\n",
            "Collecting stevedore>=3.0.0 (from qiskit)\n",
            "  Downloading stevedore-5.4.0-py3-none-any.whl.metadata (2.3 kB)\n",
            "Requirement already satisfied: typing-extensions in /usr/local/lib/python3.10/dist-packages (from qiskit) (4.12.2)\n",
            "Collecting symengine<0.14,>=0.11 (from qiskit)\n",
            "  Downloading symengine-0.13.0-cp310-cp310-manylinux_2_17_x86_64.manylinux2014_x86_64.whl.metadata (1.2 kB)\n",
            "Requirement already satisfied: six>=1.5 in /usr/local/lib/python3.10/dist-packages (from python-dateutil>=2.8.0->qiskit) (1.16.0)\n",
            "Collecting pbr>=2.0.0 (from stevedore>=3.0.0->qiskit)\n",
            "  Downloading pbr-6.1.0-py2.py3-none-any.whl.metadata (3.4 kB)\n",
            "Requirement already satisfied: mpmath<1.4,>=1.1.0 in /usr/local/lib/python3.10/dist-packages (from sympy>=1.3->qiskit) (1.3.0)\n",
            "Downloading qiskit-1.3.0-cp39-abi3-manylinux_2_17_x86_64.manylinux2014_x86_64.whl (6.7 MB)\n",
            "\u001b[2K   \u001b[90m━━━━━━━━━━━━━━━━━━━━━━━━━━━━━━━━━━━━━━━━\u001b[0m \u001b[32m6.7/6.7 MB\u001b[0m \u001b[31m28.6 MB/s\u001b[0m eta \u001b[36m0:00:00\u001b[0m\n",
            "\u001b[?25hDownloading dill-0.3.9-py3-none-any.whl (119 kB)\n",
            "\u001b[2K   \u001b[90m━━━━━━━━━━━━━━━━━━━━━━━━━━━━━━━━━━━━━━━━\u001b[0m \u001b[32m119.4/119.4 kB\u001b[0m \u001b[31m7.2 MB/s\u001b[0m eta \u001b[36m0:00:00\u001b[0m\n",
            "\u001b[?25hDownloading rustworkx-0.15.1-cp38-abi3-manylinux_2_17_x86_64.manylinux2014_x86_64.whl (2.0 MB)\n",
            "\u001b[2K   \u001b[90m━━━━━━━━━━━━━━━━━━━━━━━━━━━━━━━━━━━━━━━━\u001b[0m \u001b[32m2.0/2.0 MB\u001b[0m \u001b[31m36.4 MB/s\u001b[0m eta \u001b[36m0:00:00\u001b[0m\n",
            "\u001b[?25hDownloading stevedore-5.4.0-py3-none-any.whl (49 kB)\n",
            "\u001b[2K   \u001b[90m━━━━━━━━━━━━━━━━━━━━━━━━━━━━━━━━━━━━━━━━\u001b[0m \u001b[32m49.5/49.5 kB\u001b[0m \u001b[31m1.7 MB/s\u001b[0m eta \u001b[36m0:00:00\u001b[0m\n",
            "\u001b[?25hDownloading symengine-0.13.0-cp310-cp310-manylinux_2_17_x86_64.manylinux2014_x86_64.whl (49.7 MB)\n",
            "\u001b[2K   \u001b[90m━━━━━━━━━━━━━━━━━━━━━━━━━━━━━━━━━━━━━━━━\u001b[0m \u001b[32m49.7/49.7 MB\u001b[0m \u001b[31m7.8 MB/s\u001b[0m eta \u001b[36m0:00:00\u001b[0m\n",
            "\u001b[?25hDownloading pbr-6.1.0-py2.py3-none-any.whl (108 kB)\n",
            "\u001b[2K   \u001b[90m━━━━━━━━━━━━━━━━━━━━━━━━━━━━━━━━━━━━━━━━\u001b[0m \u001b[32m108.5/108.5 kB\u001b[0m \u001b[31m4.2 MB/s\u001b[0m eta \u001b[36m0:00:00\u001b[0m\n",
            "\u001b[?25hInstalling collected packages: symengine, rustworkx, pbr, dill, stevedore, qiskit\n",
            "Successfully installed dill-0.3.9 pbr-6.1.0 qiskit-1.3.0 rustworkx-0.15.1 stevedore-5.4.0 symengine-0.13.0\n"
          ]
        }
      ]
    },
    {
      "cell_type": "code",
      "source": [
        "!pip install sympy"
      ],
      "metadata": {
        "id": "HrzdaDuhfEol",
        "colab": {
          "base_uri": "https://localhost:8080/"
        },
        "outputId": "0cf33885-0073-4621-b0b6-7d90e30b3155"
      },
      "execution_count": 2,
      "outputs": [
        {
          "output_type": "stream",
          "name": "stdout",
          "text": [
            "Requirement already satisfied: sympy in /usr/local/lib/python3.10/dist-packages (1.13.1)\n",
            "Requirement already satisfied: mpmath<1.4,>=1.1.0 in /usr/local/lib/python3.10/dist-packages (from sympy) (1.3.0)\n"
          ]
        }
      ]
    },
    {
      "cell_type": "markdown",
      "source": [
        "For single output"
      ],
      "metadata": {
        "id": "u9O5v26Mm-yu"
      }
    },
    {
      "cell_type": "code",
      "source": [
        "import itertools\n",
        "\n",
        "def verify_reed_muller(truth_table, terms, n_vars):\n",
        "    \"\"\"\n",
        "    Verify if the given Reed-Muller expansion satisfies the truth table.\n",
        "    :param truth_table: Dictionary where keys are input binary strings and values are outputs (0 or 1).\n",
        "    :param terms: List of terms in the Reed-Muller expansion.\n",
        "    :param n_vars: Number of variables in the function.\n",
        "    :return: True if terms match the truth table, False otherwise.\n",
        "    \"\"\"\n",
        "    for input_bits, expected_output in truth_table.items():\n",
        "        # Compute the function output for this input using the terms\n",
        "        output = 0\n",
        "        for term in terms:\n",
        "            product = 1\n",
        "            for i, bit in enumerate(term):\n",
        "                if bit == '1':\n",
        "                    product &= int(input_bits[i])\n",
        "            output ^= product  # XOR the result\n",
        "        if output != expected_output:\n",
        "            return False\n",
        "    return True\n",
        "\n",
        "def find_reed_muller_expansion(truth_table):\n",
        "    \"\"\"\n",
        "    Find the Positive Polarity Reed-Muller (PPRM) expansion for a given truth table.\n",
        "    :param truth_table: Dictionary where keys are input binary strings and values are outputs (0 or 1).\n",
        "    :return: List of terms in the PPRM expansion.\n",
        "    \"\"\"\n",
        "    n_vars = len(next(iter(truth_table.keys())))  # Number of variables\n",
        "    all_terms = list(itertools.product(['0', '1'], repeat=n_vars))  # All possible terms\n",
        "    valid_expansion = []\n",
        "\n",
        "    # Iterate over all subsets of terms\n",
        "    for subset_size in range(len(all_terms) + 1):\n",
        "        for terms_subset in itertools.combinations(all_terms, subset_size):\n",
        "            terms_subset = [\"\".join(term) for term in terms_subset]  # Convert tuples to strings\n",
        "            if verify_reed_muller(truth_table, terms_subset, n_vars):\n",
        "                valid_expansion = terms_subset\n",
        "                return valid_expansion  # Return the first valid expansion found\n",
        "\n",
        "    return valid_expansion  # If no valid expansion is found\n",
        "\n",
        "def pprm_to_expression(terms, n_vars):\n",
        "    \"\"\"\n",
        "    Convert PPRM terms into a human-readable Boolean expression.\n",
        "    :param terms: List of terms in PPRM (binary strings).\n",
        "    :param n_vars: Number of input variables.\n",
        "    :return: String representation of the PPRM expansion.\n",
        "    \"\"\"\n",
        "    expression = []\n",
        "    for term in terms:\n",
        "        # Map binary to variable names\n",
        "        variables = [f\"x{i+1}\" for i, bit in enumerate(term) if bit == '1']\n",
        "        expression.append(\"\".join(variables) if variables else \"1\")\n",
        "    return \" ⊕ \".join(expression)\n",
        "\n",
        "# Example usage\n",
        "truth_table = {\n",
        "    '0000': 0,\n",
        "    '0001': 1,\n",
        "    '0010': 1,\n",
        "    '0011': 0,\n",
        "    '0100': 1,\n",
        "    '0101': 0,\n",
        "    '0110': 0,\n",
        "    '0111': 1,\n",
        "    '1000': 1,\n",
        "    '1001': 0,\n",
        "    '1010': 0,\n",
        "    '1011': 1,\n",
        "    '1100': 0,\n",
        "    '1101': 1,\n",
        "    '1110': 1,\n",
        "    '1111': 0\n",
        "}\n",
        "\n",
        "# Find PPRM expansion\n",
        "pprm_terms = find_reed_muller_expansion(truth_table)\n",
        "\n",
        "# Convert to expression for readability\n",
        "n_vars = len(next(iter(truth_table.keys())))\n",
        "pprm_expression = pprm_to_expression(pprm_terms, n_vars)\n",
        "\n",
        "print(\"PPRM Terms:\", pprm_terms)\n",
        "print(\"PPRM Expression:\", pprm_expression)"
      ],
      "metadata": {
        "colab": {
          "base_uri": "https://localhost:8080/"
        },
        "id": "UloTateOWrhc",
        "outputId": "ed259daa-5f12-40bf-81c6-b6bfafc3d2d7"
      },
      "execution_count": 3,
      "outputs": [
        {
          "output_type": "stream",
          "name": "stdout",
          "text": [
            "PPRM Terms: ['0001', '0010', '0100', '1000']\n",
            "PPRM Expression: x4 ⊕ x3 ⊕ x2 ⊕ x1\n"
          ]
        }
      ]
    },
    {
      "cell_type": "code",
      "source": [
        "from qiskit import QuantumCircuit\n",
        "\n",
        "def construct_toffoli_circuit(pprm_terms, n_vars):\n",
        "    \"\"\"\n",
        "    Construct a quantum circuit using Toffoli gates from the PPRM expansion.\n",
        "    :param pprm_terms: List of terms in PPRM expansion (binary strings).\n",
        "    :param n_vars: Number of input variables.\n",
        "    :return: QuantumCircuit object.\n",
        "    \"\"\"\n",
        "    # Create a quantum circuit with n_vars input qubits and 1 output qubit\n",
        "    qc = QuantumCircuit(n_vars + 1, name=\"Reversible Circuit\")\n",
        "    output_qubit = n_vars  # The last qubit is the output qubit\n",
        "\n",
        "    # Iterate through PPRM terms to construct the circuit\n",
        "    for term in pprm_terms:\n",
        "        controls = [i for i, bit in enumerate(term) if bit == '1']\n",
        "        if len(controls) == 0:  # Constant 1 term (acts as a NOT gate on the output qubit)\n",
        "            qc.x(output_qubit)\n",
        "        elif len(controls) == 1:  # Single control (CNOT gate)\n",
        "            qc.cx(controls[0], output_qubit)\n",
        "        else:  # Multi-control (Toffoli or generalized Toffoli gate)\n",
        "            qc.mcx(controls, output_qubit)\n",
        "\n",
        "    return qc\n",
        "\n",
        "def generate_quantum_circuit_from_truth_table(truth_table):\n",
        "    \"\"\"\n",
        "    Generate a quantum circuit from a given truth table.\n",
        "    :param truth_table: Dictionary {input: output}.\n",
        "    :return: QuantumCircuit object.\n",
        "    \"\"\"\n",
        "    # Step 1: Find PPRM expansion\n",
        "    pprm_terms = find_reed_muller_expansion(truth_table)\n",
        "\n",
        "    # Step 2: Number of variables\n",
        "    n_vars = len(next(iter(truth_table.keys())))\n",
        "\n",
        "    # Step 3: Construct quantum circuit\n",
        "    qc = construct_toffoli_circuit(pprm_terms, n_vars)\n",
        "\n",
        "    return qc\n",
        "\n",
        "# Example usage\n",
        "# truth_table = {\n",
        "#     '000': 1,\n",
        "#     '001': 1,\n",
        "#     '010': 1,\n",
        "#     '011': 0,\n",
        "#     '100': 1,\n",
        "#     '101': 0,\n",
        "#     '110': 1,\n",
        "#     '111': 1\n",
        "# }\n",
        "# Example usage\n",
        "truth_table = {\n",
        "    '0000': 0,\n",
        "    '0001': 1,\n",
        "    '0010': 1,\n",
        "    '0011': 0,\n",
        "    '0100': 1,\n",
        "    '0101': 1,\n",
        "    '0110': 0,\n",
        "    '0111': 1,\n",
        "    '1000': 0,\n",
        "    '1001': 0,\n",
        "    '1010': 0,\n",
        "    '1011': 1,\n",
        "    '1100': 0,\n",
        "    '1101': 1,\n",
        "    '1110': 1,\n",
        "    '1111': 0\n",
        "}\n",
        "\n",
        "# Find PPRM expansion\n",
        "pprm_terms = find_reed_muller_expansion(truth_table)\n",
        "\n",
        "# Convert to expression for readability\n",
        "n_vars = len(next(iter(truth_table.keys())))\n",
        "pprm_expression = pprm_to_expression(pprm_terms, n_vars)\n",
        "\n",
        "print(\"PPRM Terms:\", pprm_terms)\n",
        "print(\"PPRM Expression:\", pprm_expression)\n",
        "\n",
        "\n",
        "# Generate the quantum circuit\n",
        "quantum_circuit = generate_quantum_circuit_from_truth_table(truth_table)\n",
        "\n",
        "# Display the circuit\n",
        "print(\"Generated Quantum Circuit:\")\n",
        "print(quantum_circuit.draw('text'))"
      ],
      "metadata": {
        "colab": {
          "base_uri": "https://localhost:8080/"
        },
        "id": "0eEnJE3vZe2U",
        "outputId": "bbb2bfb6-49e9-4087-de75-0a886b267f0f"
      },
      "execution_count": 4,
      "outputs": [
        {
          "output_type": "stream",
          "name": "stdout",
          "text": [
            "PPRM Terms: ['0001', '0010', '0100', '0101', '0111', '1001', '1010', '1011', '1100', '1110']\n",
            "PPRM Expression: x4 ⊕ x3 ⊕ x2 ⊕ x2x4 ⊕ x2x3x4 ⊕ x1x4 ⊕ x1x3 ⊕ x1x3x4 ⊕ x1x2 ⊕ x1x2x3\n",
            "Generated Quantum Circuit:\n",
            "                                                       \n",
            "q_0: ───────────────────────────■────■────■────■────■──\n",
            "                                │    │    │    │    │  \n",
            "q_1: ────────────■────■────■────┼────┼────┼────■────■──\n",
            "                 │    │    │    │    │    │    │    │  \n",
            "q_2: ───────■────┼────┼────■────┼────■────■────┼────■──\n",
            "            │    │    │    │    │    │    │    │    │  \n",
            "q_3: ──■────┼────┼────■────■────■────┼────■────┼────┼──\n",
            "     ┌─┴─┐┌─┴─┐┌─┴─┐┌─┴─┐┌─┴─┐┌─┴─┐┌─┴─┐┌─┴─┐┌─┴─┐┌─┴─┐\n",
            "q_4: ┤ X ├┤ X ├┤ X ├┤ X ├┤ X ├┤ X ├┤ X ├┤ X ├┤ X ├┤ X ├\n",
            "     └───┘└───┘└───┘└───┘└───┘└───┘└───┘└───┘└───┘└───┘\n"
          ]
        }
      ]
    },
    {
      "cell_type": "markdown",
      "source": [
        "Reversible quantum circuit with #inputs = #outputs"
      ],
      "metadata": {
        "id": "JwM7-jsKslKr"
      }
    },
    {
      "cell_type": "code",
      "source": [
        "import itertools\n",
        "\n",
        "def verify_reed_muller(truth_table, terms, n_vars, output_idx):\n",
        "    \"\"\"\n",
        "    Verify if the given Reed-Muller expansion satisfies the truth table for a specific output.\n",
        "    :param truth_table: Dictionary where keys are input binary strings and values are lists of outputs (0 or 1).\n",
        "    :param terms: List of terms in the Reed-Muller expansion.\n",
        "    :param n_vars: Number of variables in the function.\n",
        "    :param output_idx: Index of the output to verify.\n",
        "    :return: True if terms match the truth table for the given output, False otherwise.\n",
        "    \"\"\"\n",
        "    for input_bits, outputs in truth_table.items():\n",
        "        expected_output = outputs[output_idx]\n",
        "        # Compute the function output for this input using the terms\n",
        "        output = 0\n",
        "        for term in terms:\n",
        "            product = 1\n",
        "            for i, bit in enumerate(term):\n",
        "                if bit == '1':\n",
        "                    product &= int(input_bits[i])\n",
        "            output ^= product  # XOR the result\n",
        "        if output != expected_output:\n",
        "            return False\n",
        "    return True\n",
        "\n",
        "def find_reed_muller_expansion(truth_table, output_idx):\n",
        "    \"\"\"\n",
        "    Find the Positive Polarity Reed-Muller (PPRM) expansion for a specific output in the truth table.\n",
        "    :param truth_table: Dictionary where keys are input binary strings and values are lists of outputs (0 or 1).\n",
        "    :param output_idx: Index of the output for which to find the PPRM expansion.\n",
        "    :return: List of terms in the PPRM expansion.\n",
        "    \"\"\"\n",
        "    n_vars = len(next(iter(truth_table.keys())))  # Number of variables\n",
        "    all_terms = list(itertools.product(['0', '1'], repeat=n_vars))  # All possible terms\n",
        "    valid_expansion = []\n",
        "\n",
        "    # Iterate over all subsets of terms\n",
        "    for subset_size in range(len(all_terms) + 1):\n",
        "        for terms_subset in itertools.combinations(all_terms, subset_size):\n",
        "            terms_subset = [\"\".join(term) for term in terms_subset]  # Convert tuples to strings\n",
        "            if verify_reed_muller(truth_table, terms_subset, n_vars, output_idx):\n",
        "                valid_expansion = terms_subset\n",
        "                return valid_expansion  # Return the first valid expansion found\n",
        "\n",
        "    return valid_expansion  # If no valid expansion is found\n",
        "\n",
        "def pprm_to_expression(terms, n_vars):\n",
        "    \"\"\"\n",
        "    Convert PPRM terms into a human-readable Boolean expression.\n",
        "    :param terms: List of terms in PPRM (binary strings).\n",
        "    :param n_vars: Number of input variables.\n",
        "    :return: String representation of the PPRM expansion.\n",
        "    \"\"\"\n",
        "    expression = []\n",
        "    for term in terms:\n",
        "        # Map binary to variable names\n",
        "        variables = [f\"x{i+1}\" for i, bit in enumerate(term) if bit == '1']\n",
        "        expression.append(\"\".join(variables) if variables else \"1\")\n",
        "    return \" ⊕ \".join(expression)\n",
        "\n",
        "# Example usage\n",
        "truth_table = {\n",
        "    '0000': [0, 1, 0, 1],\n",
        "    '0001': [1, 0, 1, 0],\n",
        "    '0010': [1, 1, 0, 0],\n",
        "    '0011': [0, 0, 1, 1],\n",
        "    '0100': [1, 1, 1, 0],\n",
        "    '0101': [0, 0, 0, 1],\n",
        "    '0110': [0, 1, 1, 0],\n",
        "    '0111': [1, 0, 0, 1],\n",
        "    '1000': [1, 0, 0, 1],\n",
        "    '1001': [0, 1, 1, 0],\n",
        "    '1010': [0, 0, 0, 1],\n",
        "    '1011': [1, 1, 1, 0],\n",
        "    '1100': [0, 0, 1, 1],\n",
        "    '1101': [1, 1, 0, 0],\n",
        "    '1110': [1, 0, 1, 0],\n",
        "    '1111': [0, 1, 0, 1]\n",
        "}\n",
        "\n",
        "n_vars = len(next(iter(truth_table.keys())))\n",
        "n_outputs = len(next(iter(truth_table.values())))\n",
        "\n",
        "# Find PPRM expansions for all outputs\n",
        "pprm_expressions = []\n",
        "for output_idx in range(n_outputs):\n",
        "    pprm_terms = find_reed_muller_expansion(truth_table, output_idx)\n",
        "    pprm_expression = pprm_to_expression(pprm_terms, n_vars)\n",
        "    pprm_expressions.append((pprm_terms, pprm_expression))\n",
        "\n",
        "# Display PPRM expansions\n",
        "for terms, expression in pprm_expressions:\n",
        "    print(f\"PPRM Terms: {terms}\")\n",
        "    print(f\"PPRM Expression: {expression}\")\n"
      ],
      "metadata": {
        "id": "qWeL8tAiqOed",
        "outputId": "c4b900ba-4a49-41e8-9c0c-e94f954f18d9",
        "colab": {
          "base_uri": "https://localhost:8080/"
        }
      },
      "execution_count": 5,
      "outputs": [
        {
          "output_type": "stream",
          "name": "stdout",
          "text": [
            "PPRM Terms: ['0001', '0010', '0100', '1000']\n",
            "PPRM Expression: x4 ⊕ x3 ⊕ x2 ⊕ x1\n",
            "PPRM Terms: ['0000', '0001', '1000']\n",
            "PPRM Expression: 1 ⊕ x4 ⊕ x1\n",
            "PPRM Terms: ['0001', '0100']\n",
            "PPRM Expression: x4 ⊕ x2\n",
            "PPRM Terms: ['0000', '0001', '0010', '0100', '0110', '1010', '1100']\n",
            "PPRM Expression: 1 ⊕ x4 ⊕ x3 ⊕ x2 ⊕ x2x3 ⊕ x1x3 ⊕ x1x2\n"
          ]
        }
      ]
    },
    {
      "cell_type": "code",
      "source": [
        "pprm_expressions"
      ],
      "metadata": {
        "colab": {
          "base_uri": "https://localhost:8080/"
        },
        "id": "sqskeOCNnJhq",
        "outputId": "64602601-2b77-46f7-af40-ab7f55227ba9"
      },
      "execution_count": 6,
      "outputs": [
        {
          "output_type": "execute_result",
          "data": {
            "text/plain": [
              "[(['0001', '0010', '0100', '1000'], 'x4 ⊕ x3 ⊕ x2 ⊕ x1'),\n",
              " (['0000', '0001', '1000'], '1 ⊕ x4 ⊕ x1'),\n",
              " (['0001', '0100'], 'x4 ⊕ x2'),\n",
              " (['0000', '0001', '0010', '0100', '0110', '1010', '1100'],\n",
              "  '1 ⊕ x4 ⊕ x3 ⊕ x2 ⊕ x2x3 ⊕ x1x3 ⊕ x1x2')]"
            ]
          },
          "metadata": {},
          "execution_count": 6
        }
      ]
    },
    {
      "cell_type": "markdown",
      "source": [
        "We can thus obtain PPRM of any circuit given a truth table in the following form :"
      ],
      "metadata": {
        "id": "VePsnuQynl5S"
      }
    },
    {
      "cell_type": "code",
      "source": [
        "def findPPRM(pprm_expressions):\n",
        "  ans = []\n",
        "  for t,e in pprm_expressions:\n",
        "    ans.append(t)\n",
        "  return ans\n",
        "findPPRM(pprm_expressions)"
      ],
      "metadata": {
        "colab": {
          "base_uri": "https://localhost:8080/"
        },
        "id": "0wa53wj8nkuE",
        "outputId": "cbcc03f4-8b29-4344-b9f9-2eea860eb84d"
      },
      "execution_count": 7,
      "outputs": [
        {
          "output_type": "execute_result",
          "data": {
            "text/plain": [
              "[['0001', '0010', '0100', '1000'],\n",
              " ['0000', '0001', '1000'],\n",
              " ['0001', '0100'],\n",
              " ['0000', '0001', '0010', '0100', '0110', '1010', '1100']]"
            ]
          },
          "metadata": {},
          "execution_count": 7
        }
      ]
    },
    {
      "cell_type": "markdown",
      "source": [
        "In this form of PPRM : '000' maps to 1 and and the index where the term has value 1 means that literal is present . for e.g : [000,101] will mean 1 xor x0. x2  (as 1 present in index 0 and 2 of '101' and '000' means 1). For multiple outputs (here = #inputs = 3) the pprm will have 3 such lists for 3 outputs .\n",
        "\n",
        "Lets consider the example given in paper and we obtain the following PPRM for :\n",
        "\n",
        "ao = 1 ⊕ a\n",
        "\n",
        "bo = c ⊕ b ⊕ ac\n",
        "\n",
        "co = b ⊕ ac ⊕ ab"
      ],
      "metadata": {
        "id": "ZW7CM4t4oJ7g"
      }
    },
    {
      "cell_type": "code",
      "source": [
        "pprm = [\n",
        "    ['000', '100'],\n",
        "    ['001', '010', '101'],\n",
        "    ['010', '101', '110']\n",
        "]"
      ],
      "metadata": {
        "id": "lWs7B3ygces_"
      },
      "execution_count": 8,
      "outputs": []
    },
    {
      "cell_type": "code",
      "source": [
        "initTerms = 0\n",
        "for out in pprm:\n",
        "  initTerms += len(out)\n",
        "initTerms"
      ],
      "metadata": {
        "colab": {
          "base_uri": "https://localhost:8080/"
        },
        "id": "iDVfel5ccf3I",
        "outputId": "8dc3d738-9e62-4aa7-d0b1-63582b488178"
      },
      "execution_count": 9,
      "outputs": [
        {
          "output_type": "execute_result",
          "data": {
            "text/plain": [
              "8"
            ]
          },
          "metadata": {},
          "execution_count": 9
        }
      ]
    },
    {
      "cell_type": "code",
      "source": [
        "def calculate_terms(pprm):\n",
        "    \"\"\"\n",
        "    Calculate the number of terms in the PPRM expansion.\n",
        "    :param pprm: Current PPRM expansion.\n",
        "    :return: Number of terms.\n",
        "    \"\"\"\n",
        "    initTerms = 0\n",
        "    for out in pprm:\n",
        "      initTerms += len(out)\n",
        "    return initTerms"
      ],
      "metadata": {
        "id": "hqKWi9c7c_i5"
      },
      "execution_count": 10,
      "outputs": []
    },
    {
      "cell_type": "markdown",
      "source": [
        "The following blocks are used to generate function for making the substitution : vi = vi ⊕ factor and obtain the PPRM"
      ],
      "metadata": {
        "id": "9jNDwfWjp4TS"
      }
    },
    {
      "cell_type": "code",
      "source": [
        "def interpret_pprm(pprm):\n",
        "    \"\"\"\n",
        "    Converts a PPRM into Boolean expressions dynamically.\n",
        "\n",
        "    Args:\n",
        "    - pprm (list of list of str): PPRM representation, where each inner list corresponds to one output.\n",
        "\n",
        "    Returns:\n",
        "    - list of str: Boolean expressions for each output.\n",
        "    \"\"\"\n",
        "    num_vars = len(pprm)  # Number of inputs/outputs (equal)\n",
        "    variable_names = [f\"x{i}\" for i in range(num_vars)]  # Dynamically generate variable names\n",
        "\n",
        "    expressions = []\n",
        "\n",
        "    for terms in pprm:\n",
        "        expr_terms = []  # Store terms for the current output\n",
        "\n",
        "        for term in terms:\n",
        "            if all(bit == '0' for bit in term):  # Special case: all '0's mean constant 1\n",
        "                expr_terms.append(\"1\")\n",
        "            else:\n",
        "                # Generate product (AND) terms based on binary encoding\n",
        "                product = []\n",
        "                for idx, bit in enumerate(term):\n",
        "                    if bit == '1':  # Include the variable if the bit is 1\n",
        "                        product.append(variable_names[idx])\n",
        "                expr_terms.append(\" & \".join(product))\n",
        "\n",
        "        # Combine terms with XOR (⊕)\n",
        "        expression = \" ⊕ \".join(expr_terms)\n",
        "        expressions.append(expression)\n",
        "\n",
        "    return expressions\n",
        "\n",
        "\n",
        "def substitute(pprm, vi, factor):\n",
        "    \"\"\"\n",
        "    Substitutes a variable vi with a new term based on the given factor.\n",
        "\n",
        "    Args:\n",
        "    - pprm (list of list of str): PPRM representation.\n",
        "    - vi (int): The variable index to substitute.\n",
        "    - factor (str): The factor (like '000') that dictates how to modify the variable.\n",
        "\n",
        "    Returns:\n",
        "    - list of str: The modified Boolean expressions.\n",
        "    \"\"\"\n",
        "    num_vars = len(factor)  # Number of inputs/variables\n",
        "    variable_names = [f\"x{i}\" for i in range(num_vars)]  # Variable names: x0, x1, ...\n",
        "\n",
        "    expressions = []\n",
        "    ans = ''\n",
        "    for f in range(len(factor)):\n",
        "      if ans=='':\n",
        "         if factor[f] == '1':\n",
        "            ans += variable_names[f]\n",
        "      else:\n",
        "       if factor[f] == '1':\n",
        "        ans += '&'+variable_names[f]\n",
        "\n",
        "    if ans == '':\n",
        "      ans = '1'\n",
        "    for output_terms in pprm:\n",
        "        expr_terms = []  # Store terms for this output\n",
        "\n",
        "        for term in output_terms:\n",
        "            if all(bit == '0' for bit in term):  # Special case: all '0's mean constant 1\n",
        "                expr_terms.append(\"1\")\n",
        "            else:\n",
        "                # For each term in the output, we will modify it based on the factor\n",
        "                modified_term = []\n",
        "                for idx, bit in enumerate(term):\n",
        "                    if bit == '1':  # Check if the bit is 1\n",
        "                        # If this is the variable to be substituted, modify it\n",
        "                        if idx == vi:\n",
        "                            modified_term.append(f\"({ans} ⊕ {variable_names[idx]})\")\n",
        "                        else:\n",
        "                            modified_term.append(variable_names[idx])\n",
        "                    else:\n",
        "                        continue  # Skip zero bits\n",
        "\n",
        "                expr_terms.append(\" & \".join(modified_term))\n",
        "\n",
        "        # Combine terms with XOR\n",
        "        expression = \" ⊕ \".join(expr_terms)\n",
        "        expressions.append(expression)\n",
        "\n",
        "    return expressions\n",
        "\n",
        "\n",
        "# Example usage\n",
        "pprm = [\n",
        "    ['000', '100'],         # Output 1\n",
        "    ['001', '010', '101'],  # Output 2\n",
        "    ['010', '101', '110']   # Output 3\n",
        "]\n",
        "\n",
        "# Generate Boolean expressions\n",
        "boolean_expressions = interpret_pprm(pprm)\n",
        "print(\"Original Boolean Expressions:\")\n",
        "for i, expr in enumerate(boolean_expressions):\n",
        "    print(f\"Output {i + 1}: {expr}\")\n",
        "\n",
        "# Substitute vi = 0, factor = '000' and modify the expressions\n",
        "vi = 0  # Substitute for x0\n",
        "factor = '000'  # Factor to modify (for example, all 0s)\n",
        "modified_expressions = substitute(pprm, vi, factor)\n",
        "\n",
        "print(\"\\nModified Boolean Expressions:\")\n",
        "for i, expr in enumerate(modified_expressions):\n",
        "    print(f\"Output {i + 1}: {expr}\")\n"
      ],
      "metadata": {
        "colab": {
          "base_uri": "https://localhost:8080/"
        },
        "id": "-VCN8HSheGjz",
        "outputId": "3d47f2b2-3ad1-4ba9-fbc2-ea2a6bf64d21"
      },
      "execution_count": 11,
      "outputs": [
        {
          "output_type": "stream",
          "name": "stdout",
          "text": [
            "Original Boolean Expressions:\n",
            "Output 1: 1 ⊕ x0\n",
            "Output 2: x2 ⊕ x1 ⊕ x0 & x2\n",
            "Output 3: x1 ⊕ x0 & x2 ⊕ x0 & x1\n",
            "\n",
            "Modified Boolean Expressions:\n",
            "Output 1: 1 ⊕ (1 ⊕ x0)\n",
            "Output 2: x2 ⊕ x1 ⊕ (1 ⊕ x0) & x2\n",
            "Output 3: x1 ⊕ (1 ⊕ x0) & x2 ⊕ (1 ⊕ x0) & x1\n"
          ]
        }
      ]
    },
    {
      "cell_type": "code",
      "source": [
        "modified_expressions"
      ],
      "metadata": {
        "colab": {
          "base_uri": "https://localhost:8080/"
        },
        "id": "b6FjV54ssKxe",
        "outputId": "675373f3-b5ed-4037-fa21-2475d8701abe"
      },
      "execution_count": 12,
      "outputs": [
        {
          "output_type": "execute_result",
          "data": {
            "text/plain": [
              "['1 ⊕ (1 ⊕ x0)',\n",
              " 'x2 ⊕ x1 ⊕ (1 ⊕ x0) & x2',\n",
              " 'x1 ⊕ (1 ⊕ x0) & x2 ⊕ (1 ⊕ x0) & x1']"
            ]
          },
          "metadata": {},
          "execution_count": 12
        }
      ]
    },
    {
      "cell_type": "code",
      "source": [
        "import itertools\n",
        "\n",
        "def verify_reed_muller(truth_table, terms, n_vars):\n",
        "    \"\"\"\n",
        "    Verify if the given Reed-Muller expansion satisfies the truth table.\n",
        "    :param truth_table: Dictionary where keys are input binary strings and values are outputs (0 or 1).\n",
        "    :param terms: List of terms in the Reed-Muller expansion.\n",
        "    :param n_vars: Number of variables in the function.\n",
        "    :return: True if terms match the truth table, False otherwise.\n",
        "    \"\"\"\n",
        "    for input_bits, expected_output in truth_table.items():\n",
        "        # Compute the function output for this input using the terms\n",
        "        output = 0\n",
        "        for term in terms:\n",
        "            product = 1\n",
        "            for i, bit in enumerate(term):\n",
        "                if bit == '1':\n",
        "                    product &= int(input_bits[i])\n",
        "            output ^= product  # XOR the result\n",
        "        if output != expected_output:\n",
        "            return False\n",
        "    return True\n",
        "\n",
        "def find_reed_muller_expansion(truth_table):\n",
        "    \"\"\"\n",
        "    Find the Positive Polarity Reed-Muller (PPRM) expansion for a given truth table.\n",
        "    :param truth_table: Dictionary where keys are input binary strings and values are outputs (0 or 1).\n",
        "    :return: List of terms in the PPRM expansion.\n",
        "    \"\"\"\n",
        "    n_vars = len(next(iter(truth_table.keys())))  # Number of variables\n",
        "    all_terms = list(itertools.product(['0', '1'], repeat=n_vars))  # All possible terms\n",
        "    valid_expansion = []\n",
        "\n",
        "    # Iterate over all subsets of terms\n",
        "    for subset_size in range(len(all_terms) + 1):\n",
        "        for terms_subset in itertools.combinations(all_terms, subset_size):\n",
        "            terms_subset = [\"\".join(term) for term in terms_subset]  # Convert tuples to strings\n",
        "            if verify_reed_muller(truth_table, terms_subset, n_vars):\n",
        "                valid_expansion = terms_subset\n",
        "                return valid_expansion  # Return the first valid expansion found\n",
        "\n",
        "    return valid_expansion  # If no valid expansion is found\n",
        "\n",
        "def pprm_to_expression(terms, n_vars):\n",
        "    \"\"\"\n",
        "    Convert PPRM terms into a human-readable Boolean expression.\n",
        "    :param terms: List of terms in PPRM (binary strings).\n",
        "    :param n_vars: Number of input variables.\n",
        "    :return: String representation of the PPRM expansion.\n",
        "    \"\"\"\n",
        "    expression = []\n",
        "    for term in terms:\n",
        "        # Map binary to variable names\n",
        "        variables = [f\"x{i+1}\" for i, bit in enumerate(term) if bit == '1']\n",
        "        expression.append(\"\".join(variables) if variables else \"1\")\n",
        "    return \" ⊕ \".join(expression)\n",
        "\n",
        "# Example usage\n",
        "truth_table = {\n",
        "    '0000': 0,\n",
        "    '0001': 1,\n",
        "    '0010': 1,\n",
        "    '0011': 0,\n",
        "    '0100': 1,\n",
        "    '0101': 0,\n",
        "    '0110': 0,\n",
        "    '0111': 1,\n",
        "    '1000': 1,\n",
        "    '1001': 0,\n",
        "    '1010': 0,\n",
        "    '1011': 1,\n",
        "    '1100': 0,\n",
        "    '1101': 1,\n",
        "    '1110': 1,\n",
        "    '1111': 0\n",
        "}\n",
        "\n",
        "# Find PPRM expansion\n",
        "pprm_terms = find_reed_muller_expansion(truth_table)\n",
        "\n",
        "# Convert to expression for readability\n",
        "n_vars = len(next(iter(truth_table.keys())))\n",
        "pprm_expression = pprm_to_expression(pprm_terms, n_vars)\n",
        "\n",
        "print(\"PPRM Terms:\", pprm_terms)\n",
        "print(\"PPRM Expression:\", pprm_expression)"
      ],
      "metadata": {
        "colab": {
          "base_uri": "https://localhost:8080/"
        },
        "id": "VAEQN5vCjf2p",
        "outputId": "a8c929a0-250d-4c32-93c6-3292dbfcf646"
      },
      "execution_count": 13,
      "outputs": [
        {
          "output_type": "stream",
          "name": "stdout",
          "text": [
            "PPRM Terms: ['0001', '0010', '0100', '1000']\n",
            "PPRM Expression: x4 ⊕ x3 ⊕ x2 ⊕ x1\n"
          ]
        }
      ]
    },
    {
      "cell_type": "code",
      "source": [
        "import itertools\n",
        "\n",
        "def evaluate_expression(expression, variables):\n",
        "    \"\"\"\n",
        "    Evaluates a Boolean expression for a given set of variable values.\n",
        "\n",
        "    Args:\n",
        "    - expression (str): Boolean expression to evaluate.\n",
        "    - variables (dict): Dictionary mapping variable names to values.\n",
        "\n",
        "    Returns:\n",
        "    - int: Result of the evaluated expression (0 or 1).\n",
        "    \"\"\"\n",
        "    # Replace variable names with their corresponding values\n",
        "    for var, value in variables.items():\n",
        "        expression = expression.replace(var, str(value))\n",
        "\n",
        "    # Replace XOR (⊕) with bitwise XOR (^), and AND (&) remains the same\n",
        "    expression = expression.replace(\"⊕\", \"^\")\n",
        "\n",
        "    # Evaluate the expression safely\n",
        "    return eval(expression)\n",
        "\n",
        "def generate_truth_table(expressions, num_vars):\n",
        "    \"\"\"\n",
        "    Generates the truth table for a set of Boolean expressions.\n",
        "\n",
        "    Args:\n",
        "    - expressions (list of str): Boolean expressions to evaluate.\n",
        "    - num_vars (int): Number of variables.\n",
        "\n",
        "    Returns:\n",
        "    - list of dict: Truth table as a list of rows, where each row is a dictionary.\n",
        "    \"\"\"\n",
        "    variable_names = [f\"x{i}\" for i in range(num_vars)]\n",
        "    truth_table = []\n",
        "\n",
        "    # Generate all possible combinations of input variables (0 or 1)\n",
        "    for values in itertools.product([0, 1], repeat=num_vars):\n",
        "        row = {var: val for var, val in zip(variable_names, values)}\n",
        "\n",
        "        # Evaluate each expression and add the results to the row\n",
        "        for i, expr in enumerate(expressions):\n",
        "            row[f\"Output {i + 1}\"] = evaluate_expression(expr, row)\n",
        "\n",
        "        truth_table.append(row)\n",
        "\n",
        "    return truth_table\n",
        "\n",
        "# Test Cases\n",
        "modified_expressions = [\n",
        "    \"1 ⊕ (1 ⊕ x0)\",\n",
        "    \"x2 ⊕ x1 ⊕ (1 ⊕ x0) & x2\",\n",
        "    \"x1 ⊕ (1 ⊕ x0) & x2 ⊕ (1 ⊕ x0) & x1\"\n",
        "]\n",
        "\n",
        "num_vars = len(modified_expressions )  # Number of input variables (x0, x1, x2)= num_outputs\n",
        "# Generate truth table\n",
        "truth_table = generate_truth_table(modified_expressions, num_vars)\n",
        "# Display the truth table\n",
        "import pandas as pd\n",
        "df = pd.DataFrame(truth_table)\n",
        "print(df)"
      ],
      "metadata": {
        "id": "KHiqzyCE_Ekc",
        "colab": {
          "base_uri": "https://localhost:8080/"
        },
        "outputId": "44893486-eb8a-4e6a-89d1-c48d1b999650"
      },
      "execution_count": 14,
      "outputs": [
        {
          "output_type": "stream",
          "name": "stdout",
          "text": [
            "   x0  x1  x2  Output 1  Output 2  Output 3\n",
            "0   0   0   0         0         0         0\n",
            "1   0   0   1         0         0         1\n",
            "2   0   1   0         0         1         0\n",
            "3   0   1   1         0         1         1\n",
            "4   1   0   0         1         0         0\n",
            "5   1   0   1         1         1         0\n",
            "6   1   1   0         1         1         1\n",
            "7   1   1   1         1         0         1\n"
          ]
        }
      ]
    },
    {
      "cell_type": "code",
      "source": [
        "def transform_truth_table(truth_table, num_vars):\n",
        "    \"\"\"\n",
        "    Transforms the truth table into the desired format.\n",
        "\n",
        "    Args:\n",
        "    - truth_table (list of dict): Truth table as a list of dictionaries.\n",
        "    - num_vars (int): Number of variables.\n",
        "\n",
        "    Returns:\n",
        "    - dict: Transformed truth table where keys are binary input strings\n",
        "            and values are lists of output values.\n",
        "    \"\"\"\n",
        "    transformed_table = {}\n",
        "\n",
        "    for row in truth_table:\n",
        "        # Generate the binary key based on the input variables\n",
        "        binary_key = ''.join(str(row[f\"x{i}\"]) for i in range(num_vars))\n",
        "\n",
        "        # Collect all output values for the current row\n",
        "        output_values = [row[f\"Output {i + 1}\"] for i in range(len(row) - num_vars)]\n",
        "\n",
        "        # Store in the transformed table\n",
        "        transformed_table[binary_key] = output_values\n",
        "\n",
        "    return transformed_table\n",
        "\n",
        "\n",
        "# Generate truth table using previous function\n",
        "truth_table = generate_truth_table(modified_expressions, num_vars)\n",
        "\n",
        "# Transform the truth table to the desired format\n",
        "transformed_table = transform_truth_table(truth_table, num_vars)\n",
        "\n",
        "# Display the transformed table\n",
        "import pprint\n",
        "pprint.pprint(transformed_table)\n"
      ],
      "metadata": {
        "id": "eI893d38HykD",
        "colab": {
          "base_uri": "https://localhost:8080/"
        },
        "outputId": "63d4555c-de6b-4f5a-b618-c5db343de2f1"
      },
      "execution_count": 15,
      "outputs": [
        {
          "output_type": "stream",
          "name": "stdout",
          "text": [
            "{'000': [0, 0, 0],\n",
            " '001': [0, 0, 1],\n",
            " '010': [0, 1, 0],\n",
            " '011': [0, 1, 1],\n",
            " '100': [1, 0, 0],\n",
            " '101': [1, 1, 0],\n",
            " '110': [1, 1, 1],\n",
            " '111': [1, 0, 1]}\n"
          ]
        }
      ]
    },
    {
      "cell_type": "code",
      "source": [
        "import itertools\n",
        "\n",
        "def evaluate_expression_to_binary(expressions, input_binary):\n",
        "    \"\"\"\n",
        "    Evaluates the Boolean expressions for a given input binary string.\n",
        "\n",
        "    Args:\n",
        "    - expressions (list of str): Boolean expressions to evaluate.\n",
        "    - input_binary (str): Input binary string (e.g., '000').\n",
        "\n",
        "    Returns:\n",
        "    - str: Concatenated binary output string (e.g., '100').\n",
        "    \"\"\"\n",
        "    num_vars = len(input_binary)\n",
        "    variable_names = [f\"x{i}\" for i in range(num_vars)]\n",
        "\n",
        "    # Map binary string to variable values\n",
        "    variables = {var: int(bit) for var, bit in zip(variable_names, input_binary)}\n",
        "\n",
        "    # Evaluate each expression\n",
        "    output_binary = \"\"\n",
        "    for expr in expressions:\n",
        "        output_binary += str(evaluate_expression(expr, variables))\n",
        "\n",
        "    return output_binary\n",
        "\n",
        "\n",
        "def generate_truth_table_as_dict(expressions, num_vars):\n",
        "    \"\"\"\n",
        "    Generates the truth table as a dictionary mapping input binary strings to output binary strings.\n",
        "\n",
        "    Args:\n",
        "    - expressions (list of str): Boolean expressions to evaluate.\n",
        "    - num_vars (int): Number of variables.\n",
        "\n",
        "    Returns:\n",
        "    - dict: Truth table mapping input binary strings to output binary strings.\n",
        "    \"\"\"\n",
        "    truth_table = {}\n",
        "\n",
        "    # Generate all possible combinations of input variables (0 or 1)\n",
        "    for values in itertools.product([0, 1], repeat=num_vars):\n",
        "        input_binary = \"\".join(map(str, values))  # Convert input tuple to binary string\n",
        "        output_binary = evaluate_expression_to_binary(expressions, input_binary)\n",
        "        truth_table[input_binary] = output_binary\n",
        "\n",
        "    return truth_table"
      ],
      "metadata": {
        "id": "SD81L6JGiXVr"
      },
      "execution_count": 16,
      "outputs": []
    },
    {
      "cell_type": "code",
      "source": [
        "def split_truth_table_by_output(truth_table):\n",
        "    \"\"\"\n",
        "    Splits the given truth table into three truth tables,\n",
        "    each representing a specific bit of the output as an integer.\n",
        "\n",
        "\n",
        "    :param truth_table: Dictionary where keys and values are binary strings.\n",
        "    :return: Three dictionaries, each corresponding to one bit of the output.\n",
        "    \"\"\"\n",
        "    # Initialize three new truth tables\n",
        "    truth_table_bit_0 = {}\n",
        "    truth_table_bit_1 = {}\n",
        "    truth_table_bit_2 = {}\n",
        "\n",
        "\n",
        "    for input_bits, output_bits in truth_table.items():\n",
        "        # Extract individual bits and convert them to integers\n",
        "        bit_0 = int(output_bits[0])  # Most significant bit\n",
        "        bit_1 = int(output_bits[1])  # Middle bit\n",
        "        bit_2 = int(output_bits[2])  # Least significant bit\n",
        "\n",
        "\n",
        "        # Assign integer values to the corresponding truth tables\n",
        "        truth_table_bit_0[input_bits] = bit_0\n",
        "        truth_table_bit_1[input_bits] = bit_1\n",
        "        truth_table_bit_2[input_bits] = bit_2\n",
        "\n",
        "\n",
        "    return truth_table_bit_0, truth_table_bit_1, truth_table_bit_2\n",
        "\n",
        "\n",
        "\n",
        "\n",
        "# Example usage\n",
        "truth_table_dict = {\n",
        "    '000': '100',\n",
        "    '100': '000',\n",
        "    '010': '111',\n",
        "    '110': '010',\n",
        "    '001': '110',\n",
        "    '101': '001',\n",
        "    '011': '101',\n",
        "    '111': '011',\n",
        "}\n",
        "\n",
        "\n",
        "# bit_0_table, bit_1_table, bit_2_table = split_truth_table_by_output(truth_table)\n",
        "\n",
        "\n",
        "# print(\"Bit 0 Table:\", bit_0_table)\n",
        "# print(\"Bit 1 Table:\", bit_1_table)\n",
        "# print(\"Bit 2 Table:\", bit_2_table)\n",
        "\n",
        "\n",
        "for table in split_truth_table_by_output(truth_table_dict):\n",
        "    # Find PPRM expansion\n",
        "    pprm_terms = find_reed_muller_expansion(table)\n",
        "\n",
        "\n",
        "    # Convert to expression for readability\n",
        "    n_vars = len(next(iter(table.keys())))\n",
        "    pprm_expression = pprm_to_expression(pprm_terms, n_vars)\n",
        "\n",
        "\n",
        "    print(\"PPRM Terms:\", pprm_terms)\n",
        "    print(\"PPRM Expression:\", pprm_expression)"
      ],
      "metadata": {
        "id": "i2OLw_8bHXao",
        "outputId": "65bd4755-d4f8-4011-ca4a-1b978d401142",
        "colab": {
          "base_uri": "https://localhost:8080/"
        }
      },
      "execution_count": 17,
      "outputs": [
        {
          "output_type": "stream",
          "name": "stdout",
          "text": [
            "PPRM Terms: ['000', '100']\n",
            "PPRM Expression: 1 ⊕ x1\n",
            "PPRM Terms: ['001', '010', '101']\n",
            "PPRM Expression: x3 ⊕ x2 ⊕ x1x3\n",
            "PPRM Terms: ['010', '101', '110']\n",
            "PPRM Expression: x2 ⊕ x1x3 ⊕ x1x2\n"
          ]
        }
      ]
    },
    {
      "cell_type": "code",
      "source": [
        "def substitutefact(pprm,vi,factor):\n",
        "  num_vars = len(pprm)  # Number of input variables (x0, x1, x2)\n",
        "  boolean_expressions = interpret_pprm(pprm)\n",
        "  modified_expressions = substitute(pprm, vi, factor)\n",
        "  # print(f'modified : {modified_expressions}')\n",
        "  truth_table = generate_truth_table(modified_expressions, num_vars)\n",
        "  # print(f'truth_table : {truth_table}')\n",
        "  # Generate truth table using previous function\n",
        "  # Transform the truth table to the desired format\n",
        "  transformed_table = transform_truth_table(truth_table, num_vars)\n",
        "  truth_table_dict = generate_truth_table_as_dict(modified_expressions, num_vars)\n",
        "\n",
        "  truth_table = truth_table_dict\n",
        "\n",
        "  pprm_expressions=[]\n",
        "  for table in split_truth_table_by_output(truth_table):\n",
        "      # Find PPRM expansion\n",
        "      pprm_terms = find_reed_muller_expansion(table)\n",
        "\n",
        "\n",
        "      # Convert to expression for readability\n",
        "      # n_vars = len(next(iter(table.keys())))\n",
        "      # pprm_expression = pprm_to_expression(pprm_terms, n_vars)\n",
        "      pprm_expressions.append(pprm_terms)\n",
        "  return pprm_expressions"
      ],
      "metadata": {
        "id": "al6QAlirUaAd"
      },
      "execution_count": 18,
      "outputs": []
    },
    {
      "cell_type": "code",
      "source": [
        "pprm = [\n",
        "    ['000', '100'],\n",
        "    ['001', '010', '101'],\n",
        "    ['010', '101', '110']\n",
        "]"
      ],
      "metadata": {
        "id": "QzkYZuRdleh7"
      },
      "execution_count": 19,
      "outputs": []
    },
    {
      "cell_type": "code",
      "source": [
        "p=substitutefact(pprm,0,'000')\n",
        "print(p)"
      ],
      "metadata": {
        "colab": {
          "base_uri": "https://localhost:8080/"
        },
        "id": "8DrgoFxMlQnz",
        "outputId": "b694ee0f-fa2f-47c1-defe-b75b2e1fb3c5"
      },
      "execution_count": 20,
      "outputs": [
        {
          "output_type": "stream",
          "name": "stdout",
          "text": [
            "[['100'], ['010', '101'], ['001', '101', '110']]\n"
          ]
        }
      ]
    },
    {
      "cell_type": "code",
      "source": [
        "import heapq\n",
        "\n",
        "def calculate_terms(pprm):\n",
        "    \"\"\"\n",
        "    Calculate the number of terms in the PPRM expansion.\n",
        "    :param pprm: Current PPRM expansion.\n",
        "    :return: Number of terms.\n",
        "    \"\"\"\n",
        "    initTerms = 0\n",
        "    for out in pprm:\n",
        "      initTerms += len(out)\n",
        "    return initTerms\n",
        "\n",
        "pprm = [\n",
        "    ['000', '100'],\n",
        "    ['001', '010', '101'],\n",
        "    ['010', '101', '110']\n",
        "]\n",
        "num_vars=len(pprm)\n",
        "initTerms = calculate_terms(pprm)\n",
        "\n",
        "def calculate_priority(node, alpha=0.3, beta=0.6, gamma=0.1):\n",
        "    \"\"\"\n",
        "    Calculate the priority of a node based on the provided weights.\n",
        "    :param node: Node object.\n",
        "    :param alpha, beta, gamma: Weights for terms, depth, and factor literal count.\n",
        "    \"\"\"\n",
        "    return (alpha * node.depth) + (beta * node.elim / node.depth) -  gamma * node.factor[1].count('1')\n",
        "\n",
        "\n",
        "\n",
        "\n",
        "def vi_string(vi):\n",
        "  ans = ''\n",
        "  for i in range(num_vars):\n",
        "    if i==vi:\n",
        "      ans+='1'\n",
        "    else:\n",
        "      ans+='0'\n",
        "  return ans\n",
        "\n",
        "\n",
        "\n",
        "\n",
        "def is_solution(node):\n",
        "    \"\"\"\n",
        "    Check if a given node represents a valid solution.\n",
        "    :param node: Current node in the search tree.\n",
        "    :return: True if the node is a solution, False otherwise.\n",
        "    \"\"\"\n",
        "    for v in range(len(node.pprm)):\n",
        "        if len(node.pprm[v]) != 1:\n",
        "            # print(f'node.pprm[v]={node.pprm[v]}')\n",
        "            # print(f'node.pprm[v][0][v]={node.pprm[v][0][v]}')\n",
        "            return False\n",
        "        if not (node.pprm[v][0][v] == '1' and all(node.pprm[v][0][i] == '0' for i in range(len(node.pprm[v][0])) if i != v)):\n",
        "            return False\n",
        "    return True\n",
        "\n",
        "\n",
        "\n"
      ],
      "metadata": {
        "id": "fIrQfXzH6KgX"
      },
      "execution_count": 29,
      "outputs": []
    },
    {
      "cell_type": "markdown",
      "source": [
        "In the best solution node we should  obtain the Synthesized Network: [['100'], ['010'], ['001']] which means a_out = a , b_out= b , c_out= c exactly the condition required to get reversible circuit .  Now to track correctly the transformations , in node class we define an object transformation which stores the list of transformations done to get the solution\n"
      ],
      "metadata": {
        "id": "sbZhtULC08qN"
      }
    },
    {
      "cell_type": "code",
      "source": [
        "class Node:\n",
        "    def __init__(self, parent=None, pprm=pprm, depth=0, factor=None, terms=0, priority=float('inf'), transformations=None):\n",
        "        self.parent = parent\n",
        "        self.pprm = pprm  # PPRM expansion at this node\n",
        "        self.depth = depth\n",
        "        self.factor = factor  # Factor associated with this node\n",
        "        self.terms = calculate_terms(self.pprm)  # Number of terms in the PPRM expansion\n",
        "        self.elim = initTerms - self.terms  # Number of eliminated terms\n",
        "        self.priority = priority  # Priority for the priority queue\n",
        "        # Track the sequence of transformations\n",
        "        self.transformations = transformations if transformations is not None else []\n",
        "\n",
        "    def __lt__(self, other):\n",
        "        return self.priority < other.priority  # For priority queue sorting\n",
        "\n",
        "def synthesize_pprm(pprm, max_time):\n",
        "\n",
        "    best_depth = float('inf')\n",
        "    best_sol_node = None\n",
        "\n",
        "    # Initialize the root node of the search tree\n",
        "    root_node = Node(pprm=pprm, depth=0, terms=initTerms)\n",
        "\n",
        "    # Initialize priority queue and push the root node\n",
        "    priority_queue = []\n",
        "    heapq.heappush(priority_queue, (-root_node.priority, root_node))\n",
        "\n",
        "    while priority_queue:\n",
        "        _, parent_node = heapq.heappop(priority_queue)\n",
        "\n",
        "        if parent_node.depth >= best_depth - 1:\n",
        "            continue\n",
        "\n",
        "        for vi in range(len(parent_node.pprm)):  # Loop over output variables in PPRM\n",
        "            vi_pprm = parent_node.pprm[vi]  # Expansion for the current output variable\n",
        "\n",
        "            for factor in vi_pprm:\n",
        "                if factor[vi] == '0':  # Skip factors that don't contain vi\n",
        "                    # Create a child node\n",
        "                    new_transformations = parent_node.transformations + [[vi_string(vi), factor]]\n",
        "                    child_node = Node(\n",
        "                        parent=parent_node,\n",
        "                        depth=parent_node.depth + 1,\n",
        "                        factor=[vi_string(vi), factor],\n",
        "                        transformations=new_transformations\n",
        "                    )\n",
        "\n",
        "                    # Substitute vi ⊕ factor in all PPRM expansions of output\n",
        "                    child_node.pprm = substitutefact(parent_node.pprm, vi, factor)\n",
        "                    child_node.terms = calculate_terms(child_node.pprm)\n",
        "                    child_node.elim = parent_node.terms - child_node.terms\n",
        "\n",
        "                    # If a solution is found, update the best solution\n",
        "                    if is_solution(child_node) and child_node.depth < best_depth:\n",
        "                        best_depth = child_node.depth\n",
        "                        best_sol_node = child_node\n",
        "\n",
        "                    # Calculate priority and push child node if it's a candidate for further exploration\n",
        "                    if child_node.elim > 0:\n",
        "                        child_node.priority = calculate_priority(child_node)\n",
        "                        heapq.heappush(priority_queue, (-child_node.priority, child_node))\n",
        "\n",
        "        max_time -= 1  # Decrement the timer for each iteration\n",
        "\n",
        "    # Reconstruct the synthesized network from the best solution\n",
        "    return best_sol_node.pprm, best_sol_node.transformations"
      ],
      "metadata": {
        "id": "YBF7XYCBtw-v"
      },
      "execution_count": 30,
      "outputs": []
    },
    {
      "cell_type": "code",
      "source": [
        "bestnode,transformation = synthesize_pprm(pprm, 100)"
      ],
      "metadata": {
        "id": "4IxxfqIi1W0z"
      },
      "execution_count": 31,
      "outputs": []
    },
    {
      "cell_type": "code",
      "source": [
        "bestnode"
      ],
      "metadata": {
        "colab": {
          "base_uri": "https://localhost:8080/"
        },
        "id": "FtqsGV5s1fFS",
        "outputId": "1c9e14ca-a475-4f60-b67e-25b4a4d9c868"
      },
      "execution_count": 32,
      "outputs": [
        {
          "output_type": "execute_result",
          "data": {
            "text/plain": [
              "[['100'], ['010'], ['001']]"
            ]
          },
          "metadata": {},
          "execution_count": 32
        }
      ]
    },
    {
      "cell_type": "code",
      "source": [
        "transformation"
      ],
      "metadata": {
        "colab": {
          "base_uri": "https://localhost:8080/"
        },
        "id": "r5kTspzK2Ypz",
        "outputId": "549d4f3e-d5d0-43d5-c631-cf6e33353d5c"
      },
      "execution_count": 33,
      "outputs": [
        {
          "output_type": "execute_result",
          "data": {
            "text/plain": [
              "[['100', '000'], ['010', '101'], ['001', '110']]"
            ]
          },
          "metadata": {},
          "execution_count": 33
        }
      ]
    },
    {
      "cell_type": "markdown",
      "source": [
        "Finally , generate quantum circuit from this list of transformations"
      ],
      "metadata": {
        "id": "-82vIVSUupty"
      }
    },
    {
      "cell_type": "code",
      "source": [
        "from qiskit import QuantumCircuit\n",
        "\n",
        "\n",
        "def construct_quantum_circuit(transformations):\n",
        "    \"\"\"\n",
        "    Construct a quantum circuit based on the transformations:\n",
        "    1. a = a ^ 1\n",
        "    2. b = b ^ (a AND c)\n",
        "    3. c = c ^ (a AND b)\n",
        "\n",
        "    :return: QuantumCircuit object\n",
        "    \"\"\"\n",
        "    num_qubits = num_vars  # Number of qubits (3 in this case)\n",
        "    # Initialize a quantum circuit with 3 qubits\n",
        "    qc = QuantumCircuit(num_qubits)\n",
        "\n",
        "    for t in transformation :\n",
        "\n",
        "      for i in range(len(t[0])):\n",
        "        if t[0][i]=='1':\n",
        "          target = i\n",
        "      if t[1] == '0'*num_qubits:\n",
        "        qc.x(target)\n",
        "      else:\n",
        "        controls = []\n",
        "        for i in range(len(t[1])):\n",
        "          if t[1][i]=='1':\n",
        "            controls.append(i)\n",
        "        qc.mcx(controls,target)\n",
        "\n",
        "    return qc\n",
        "\n",
        "\n",
        "\n",
        "\n",
        "\n",
        "# Generate the circuit\n",
        "quantum_circuit = construct_quantum_circuit(transformation)\n",
        "\n",
        "# Display the quantum circuit\n",
        "print(\"Generated Quantum Circuit:\")\n",
        "print(quantum_circuit.draw('text'))"
      ],
      "metadata": {
        "id": "zoXzqFyI-hzb",
        "colab": {
          "base_uri": "https://localhost:8080/"
        },
        "outputId": "e98aad17-8803-480b-87ca-e7e998d530ac"
      },
      "execution_count": 28,
      "outputs": [
        {
          "output_type": "stream",
          "name": "stdout",
          "text": [
            "Generated Quantum Circuit:\n",
            "     ┌───┐          \n",
            "q_0: ┤ X ├──■────■──\n",
            "     └───┘┌─┴─┐  │  \n",
            "q_1: ─────┤ X ├──■──\n",
            "          └─┬─┘┌─┴─┐\n",
            "q_2: ───────■──┤ X ├\n",
            "               └───┘\n"
          ]
        }
      ]
    },
    {
      "cell_type": "markdown",
      "source": [
        "Succesfully generated the Quantum Circuit !!"
      ],
      "metadata": {
        "id": "lZ7USHTeuwLR"
      }
    }
  ]
}